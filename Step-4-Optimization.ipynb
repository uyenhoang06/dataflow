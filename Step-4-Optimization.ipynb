{
 "cells": [
  {
   "cell_type": "code",
   "execution_count": 1,
   "metadata": {},
   "outputs": [],
   "source": [
    "import json\n",
    "import numpy as np"
   ]
  },
  {
   "cell_type": "code",
   "execution_count": 2,
   "metadata": {},
   "outputs": [],
   "source": [
    "import warnings\n",
    "warnings.filterwarnings(\"ignore\")\n",
    "from scipy.optimize import linprog"
   ]
  },
  {
   "cell_type": "markdown",
   "metadata": {},
   "source": [
    "# Bài toán 1: phân bổ tiền cho các mã cho trước dựa trên tỉ lệ lãi và rủi ro mã đó đem lại\n",
    "\n",
    "có $x_1, x_2, x_3$ lần lượt là số tiền đầu tư vào mã 1, 2 và 3\n",
    "\n",
    "- Hàm mục tiêu là số tiền rủi ro là ít nhất (e_1, e_2, e_3 lần lượt là tỷ lệ rủi ro được tính băng sum(Pred_moc != truth)/number_of_pred) \n",
    "\n",
    "$$e_1 * x1 + e_2 * x2 + e3*x3 <- min$$\n",
    "\n",
    "- Ràng buộc 1: tổng tiền nhỏ hơn hoặc bằng số tiền hiện có \n",
    "\n",
    "$$\n",
    "x_1 + x_2 + x3 \\leq TotalBudget\n",
    "$$\n",
    "\n",
    "- Ràng buộc 2: tổng tiền lãi phải đạt được một ngưỡng nhất định (>= 50%, có thể lấy số khác 50%) (với p_1, p_2, p_3 lần lượt là tỷ lệ lãi tính trên pred)\n",
    "\n",
    "$$\n",
    "p_1 x_1 + p_2 x_2 + p_3 x_3 >= 0,5 * TotalBudget\n",
    "$$\n",
    "\n",
    "- Ràng buộc về miền mỗi ma mua ko quá 5-0 phần trăm số vốn: \n",
    "\n",
    "$$\n",
    "x_i \\geq 0 \\hspace{0.25cm} \\text{and}  \\hspace{0.25cm} x_i <= TotalBudget * 0.5\n",
    "$$"
   ]
  },
  {
   "cell_type": "code",
   "execution_count": 3,
   "metadata": {},
   "outputs": [
    {
     "name": "stdout",
     "output_type": "stream",
     "text": [
      "dict_keys(['ITD', 'DXG', 'OGC', 'ELC', 'BMP', 'BTT', 'IJC', 'BWE', 'FCN', 'KDC', 'DTL', 'KDH', 'VPS', 'VRC', 'KPF', 'DRL', 'IDI', 'DSN', 'OPC', 'C32', 'FDC', 'BTP', 'FIT', 'KHP', 'DRC', 'DVP', 'PAN', 'VPD', 'VSC'])\n"
     ]
    }
   ],
   "source": [
    "with open('result.json') as f:\n",
    "    result_dat = json.load(f)\n",
    "print(result_dat.keys())"
   ]
  },
  {
   "cell_type": "code",
   "execution_count": 4,
   "metadata": {},
   "outputs": [
    {
     "name": "stdout",
     "output_type": "stream",
     "text": [
      "29\n"
     ]
    }
   ],
   "source": [
    "print(len(result_dat.keys()))"
   ]
  },
  {
   "cell_type": "code",
   "execution_count": 5,
   "metadata": {},
   "outputs": [
    {
     "name": "stdout",
     "output_type": "stream",
     "text": [
      "ITD error risk: 0.5460122699386503\n",
      "DXG error risk: 0.4110429447852761\n",
      "OGC error risk: 0.5030674846625767\n",
      "ELC error risk: 0.9631901840490797\n",
      "BMP error risk: 0.8650306748466258\n",
      "BTT error risk: 0.656441717791411\n",
      "IJC error risk: 0.44171779141104295\n",
      "BWE error risk: 0.4233128834355828\n",
      "FCN error risk: 0.36809815950920244\n",
      "KDC error risk: 0.10429447852760736\n",
      "DTL error risk: 0.3987730061349693\n",
      "KDH error risk: 0.36809815950920244\n",
      "VPS error risk: 0.4785276073619632\n",
      "VRC error risk: 0.5828220858895705\n",
      "KPF error risk: 0.656441717791411\n",
      "DRL error risk: 0.7055214723926381\n",
      "IDI error risk: 0.48466257668711654\n",
      "DSN error risk: 0.754601226993865\n",
      "OPC error risk: 0.44785276073619634\n",
      "C32 error risk: 0.17791411042944785\n",
      "FDC error risk: 0.6134969325153374\n",
      "BTP error risk: 0.5950920245398773\n",
      "FIT error risk: 0.36809815950920244\n",
      "KHP error risk: 0.3558282208588957\n",
      "DRC error risk: 0.8404907975460123\n",
      "DVP error risk: 0.9386503067484663\n",
      "PAN error risk: 0.3619631901840491\n",
      "VPD error risk: 0.7116564417177914\n",
      "VSC error risk: 0.4110429447852761\n"
     ]
    }
   ],
   "source": [
    "# risk calculator from 1d data\n",
    "type_chose = '1d'\n",
    "max_date = 326\n",
    "performance_date = int(max_date / 2)\n",
    "for ticker in result_dat:\n",
    "    per_error = result_dat[ticker][type_chose]['middle_open_close']['percentage_error'][:performance_date]\n",
    "    per_change = result_dat[ticker][type_chose]['middle_open_close']['percent_changes'][:performance_date]\n",
    "    per_error = np.array(per_error)\n",
    "    per_change = np.array(per_change)\n",
    "    \n",
    "    # pererror 1percent error can make the game difference\n",
    "    count_outliers = np.where((np.abs(per_error) > 1))[0].shape[0]\n",
    "    risk_error = count_outliers / performance_date\n",
    "    print(f'{ticker} error risk: {risk_error}')\n",
    "    \n",
    "    # perchange\n",
    "    q1 = np.percentile(per_change, 25)\n",
    "    q3 = np.percentile(per_change, 75)\n",
    "    iqr = q3 - q1\n",
    "    lower_bound = q1 - 1.5 * iqr if q1 - 1.5 * iqr < -7 else -7\n",
    "    upper_bound = q3 + 1.5 * iqr if q3 + 1.5 * iqr > 7 else 7\n",
    "    count_outliers = np.where((per_change < lower_bound) | (per_change > upper_bound))[0].shape[0]\n",
    "    risk_change = count_outliers / performance_date\n",
    "    result_dat[ticker][type_chose]['middle_open_close']['risk_error'] = risk_error * 0.5 + risk_change * 0.5\n",
    "    \n",
    "    "
   ]
  },
  {
   "cell_type": "code",
   "execution_count": 6,
   "metadata": {},
   "outputs": [],
   "source": [
    "# assume the player use money in day performance + 1\n",
    "day_play = int(performance_date / 5) + 1\n",
    "\n",
    "type_chose = '1w'\n",
    "\n",
    "# take top all the percent change of this day\n",
    "# take all risk_error of this day\n",
    "all_percent_change = []\n",
    "all_risk_error = []\n",
    "for ticker in result_dat:\n",
    "    per_change = result_dat[ticker][type_chose]['middle_open_close']['percent_changes'][day_play]\n",
    "    risk_error = result_dat[ticker]['1d']['middle_open_close']['risk_error']\n",
    "    all_percent_change.append(per_change)\n",
    "    all_risk_error.append(risk_error)"
   ]
  },
  {
   "cell_type": "code",
   "execution_count": null,
   "metadata": {},
   "outputs": [
    {
     "name": "stdout",
     "output_type": "stream",
     "text": [
      " message: Optimization terminated successfully.\n",
      " success: True\n",
      "  status: 0\n",
      "     fun: -5963423.411895576\n",
      "       x: [ 0.000e+00  0.000e+00 ...  0.000e+00  0.000e+00]\n",
      "     nit: 5\n",
      "The total money risk: 0.3239263803680982\n",
      "The total percent change: 3.0 %\n",
      "The total money: 200000000.0\n",
      "The total ticket: 5\n",
      "-----> BTT 40,000,000 VND\n",
      "-----> IJC 40,000,000 VND\n",
      "-----> FDC 40,000,000 VND\n",
      "-----> BTP 40,000,000 VND\n",
      "-----> DRC 40,000,000 VND\n"
     ]
    }
   ],
   "source": [
    "TOTAL_MON = 200_000_000\n",
    "\n",
    "# progame 1: maximize the sum of all percent change\n",
    "obj = -np.array(all_percent_change) / 100\n",
    "\n",
    "# the total money risk should be less than 50%\n",
    "lhs_ineq = [[1 for _ in all_percent_change], all_risk_error]\n",
    "rhs_ineq = [TOTAL_MON, TOTAL_MON * 0.5]\n",
    "\n",
    "# one ticket can't buy greater than 20%\n",
    "bnd = [(0, TOTAL_MON * 0.2) for _ in all_percent_change]  \n",
    "\n",
    "opt = linprog(c=obj, A_ub=lhs_ineq, b_ub=rhs_ineq, bounds=bnd, method=\"revised simplex\")\n",
    "\n",
    "print(opt)\n",
    "\n",
    "print('The total money risk:', np.sum(np.array(all_risk_error) * opt.x) / TOTAL_MON)\n",
    "print('The total percent change:', np.round(-opt.fun / TOTAL_MON * 100), \"%\")\n",
    "print('The total money:', np.sum(opt.x))\n",
    "print('The total ticket:', np.sum(opt.x > 0))\n",
    "\n",
    "# print as money format\n",
    "for elm in np.where(opt.x > 0)[0]:\n",
    "    print(\"----->\", list(result_dat.keys())[elm],  \"{:,.0f} VND\".format(opt.x[elm]))"
   ]
  },
  {
   "cell_type": "code",
   "execution_count": null,
   "metadata": {},
   "outputs": [
    {
     "name": "stdout",
     "output_type": "stream",
     "text": [
      " message: The problem appears infeasible, as the phase one auxiliary problem terminated successfully with a residual of 9.3e+07, greater than the tolerance 1e-12 required for the solution to be considered feasible. Consider increasing the tolerance to be greater than 9.3e+07. If this tolerance is unacceptably large, the problem is likely infeasible.\n",
      " success: False\n",
      "  status: 2\n",
      "     fun: 58251533.74233128\n",
      "       x: [ 0.000e+00  0.000e+00 ...  0.000e+00  0.000e+00]\n",
      "     nit: 3\n",
      "The total money risk: 0.2912576687116564\n",
      "The total percent change: 3.584948446969233\n",
      "The total money: 200000000.0\n",
      "The total ticket: 3\n",
      "-----> BTT 70,000,000 VND\n",
      "-----> IJC 60,000,000 VND\n",
      "-----> BTP 70,000,000 VND\n"
     ]
    }
   ],
   "source": [
    "TOTAL_MON = 200_000_000\n",
    "\n",
    "# progame 2: minizie the sum of all risk error\n",
    "obj = np.array(all_risk_error)\n",
    "\n",
    "# the total money profit should be greater than 50%\n",
    "lhs_ineq = [[1 for _ in all_percent_change], -np.array(all_percent_change) / 100]\n",
    "rhs_ineq = [TOTAL_MON, -1 * TOTAL_MON * 0.5]\n",
    "\n",
    "# one ticket can't buy greater than 20%\n",
    "bnd = [(0, TOTAL_MON * 0.35) for _ in all_percent_change]  \n",
    "\n",
    "opt = linprog(c=obj, A_ub=lhs_ineq, b_ub=rhs_ineq, bounds=bnd, method=\"revised simplex\")\n",
    "\n",
    "print(opt)\n",
    "\n",
    "print('The total money risk:', np.sum(np.array(all_risk_error) * opt.x) / TOTAL_MON)\n",
    "print('The total percent change:', np.sum(np.array(all_percent_change) * opt.x) / TOTAL_MON)\n",
    "print('The total money:', np.sum(opt.x))\n",
    "print('The total ticket:', np.sum(opt.x > 0))\n",
    "\n",
    "# print as money format\n",
    "for elm in np.where(opt.x > 0)[0]:\n",
    "    print(\"----->\", list(result_dat.keys())[elm],  \"{:,.0f} VND\".format(opt.x[elm]))\n"
   ]
  },
  {
   "cell_type": "code",
   "execution_count": null,
   "metadata": {},
   "outputs": [],
   "source": []
  }
 ],
 "metadata": {
  "kernelspec": {
   "display_name": "Python 3",
   "language": "python",
   "name": "python3"
  },
  "language_info": {
   "codemirror_mode": {
    "name": "ipython",
    "version": 3
   },
   "file_extension": ".py",
   "mimetype": "text/x-python",
   "name": "python",
   "nbconvert_exporter": "python",
   "pygments_lexer": "ipython3",
   "version": "3.11.0"
  }
 },
 "nbformat": 4,
 "nbformat_minor": 2
}
