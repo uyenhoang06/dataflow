{
 "cells": [
  {
   "cell_type": "code",
   "execution_count": 1,
   "metadata": {},
   "outputs": [],
   "source": [
    "import pandas as pd\n",
    "import psycopg2\n",
    "import os"
   ]
  },
  {
   "cell_type": "code",
   "execution_count": 2,
   "metadata": {},
   "outputs": [],
   "source": [
    "# Kết nối đến PostgreSQL\n",
    "DB_USER = \"airflow_user\"\n",
    "DB_PASSWORD = \"123456\"\n",
    "DB_HOST = \"localhost\"\n",
    "DB_PORT = \"5432\"\n",
    "DB_NAME = \"dataflow\"\n"
   ]
  },
  {
   "cell_type": "code",
   "execution_count": 3,
   "metadata": {},
   "outputs": [],
   "source": [
    "conn = psycopg2.connect(\n",
    "    dbname=DB_NAME, user=DB_USER, password=DB_PASSWORD, host=DB_HOST, port=DB_PORT\n",
    ")\n",
    "cur = conn.cursor()"
   ]
  },
  {
   "cell_type": "code",
   "execution_count": 4,
   "metadata": {},
   "outputs": [
    {
     "data": {
      "text/plain": [
       "['companies', 'stock_prices', 'financial_ratios_quarter']"
      ]
     },
     "execution_count": 4,
     "metadata": {},
     "output_type": "execute_result"
    }
   ],
   "source": [
    "cur.execute(\"SELECT tablename FROM pg_catalog.pg_tables WHERE schemaname = 'public';\")\n",
    "tables = [row[0] for row in cur.fetchall()]\n",
    "tables"
   ]
  },
  {
   "cell_type": "code",
   "execution_count": 5,
   "metadata": {},
   "outputs": [
    {
     "name": "stdout",
     "output_type": "stream",
     "text": [
      "Đã xuất bảng companies ra exported_data\\companies.csv\n",
      "Đã xuất bảng stock_prices ra exported_data\\stock_prices.csv\n",
      "Đã xuất bảng financial_ratios_quarter ra exported_data\\financial_ratios_quarter.csv\n"
     ]
    }
   ],
   "source": [
    "output_dir = \"exported_data\"\n",
    "os.makedirs(output_dir, exist_ok=True)\n",
    "\n",
    "for table in tables:\n",
    "    file_path = os.path.join(output_dir, f\"{table}.csv\")\n",
    "    query = f\"COPY {table} TO STDOUT WITH CSV HEADER\"\n",
    "    with open(file_path, \"w\", encoding=\"utf-8\") as f:\n",
    "        cur.copy_expert(query, f)\n",
    "    print(f\"Đã xuất bảng {table} ra {file_path}\")\n",
    "\n",
    "# Đóng kết nối\n",
    "cur.close()\n",
    "conn.close()\n"
   ]
  }
 ],
 "metadata": {
  "kernelspec": {
   "display_name": ".venv",
   "language": "python",
   "name": "python3"
  },
  "language_info": {
   "codemirror_mode": {
    "name": "ipython",
    "version": 3
   },
   "file_extension": ".py",
   "mimetype": "text/x-python",
   "name": "python",
   "nbconvert_exporter": "python",
   "pygments_lexer": "ipython3",
   "version": "3.11.7"
  }
 },
 "nbformat": 4,
 "nbformat_minor": 2
}
